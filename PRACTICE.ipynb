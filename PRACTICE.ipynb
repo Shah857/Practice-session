{
 "cells": [
  {
   "cell_type": "code",
   "execution_count": 1,
   "id": "b53bb17c",
   "metadata": {},
   "outputs": [],
   "source": [
    "a=10"
   ]
  },
  {
   "cell_type": "code",
   "execution_count": 2,
   "id": "e95d1523",
   "metadata": {},
   "outputs": [
    {
     "data": {
      "text/plain": [
       "10"
      ]
     },
     "execution_count": 2,
     "metadata": {},
     "output_type": "execute_result"
    }
   ],
   "source": [
    "a"
   ]
  },
  {
   "cell_type": "code",
   "execution_count": 3,
   "id": "5e4c7fbb",
   "metadata": {},
   "outputs": [],
   "source": [
    "b=5"
   ]
  },
  {
   "cell_type": "code",
   "execution_count": 4,
   "id": "d4cf79e6",
   "metadata": {},
   "outputs": [
    {
     "data": {
      "text/plain": [
       "5"
      ]
     },
     "execution_count": 4,
     "metadata": {},
     "output_type": "execute_result"
    }
   ],
   "source": [
    "b"
   ]
  },
  {
   "cell_type": "code",
   "execution_count": 5,
   "id": "7ee0683f",
   "metadata": {},
   "outputs": [
    {
     "data": {
      "text/plain": [
       "5"
      ]
     },
     "execution_count": 5,
     "metadata": {},
     "output_type": "execute_result"
    }
   ],
   "source": [
    "a-b"
   ]
  },
  {
   "cell_type": "code",
   "execution_count": 6,
   "id": "d0d72d77",
   "metadata": {},
   "outputs": [
    {
     "data": {
      "text/plain": [
       "2.0"
      ]
     },
     "execution_count": 6,
     "metadata": {},
     "output_type": "execute_result"
    }
   ],
   "source": [
    "a/b"
   ]
  },
  {
   "cell_type": "code",
   "execution_count": 7,
   "id": "3ece16b2",
   "metadata": {},
   "outputs": [
    {
     "data": {
      "text/plain": [
       "2"
      ]
     },
     "execution_count": 7,
     "metadata": {},
     "output_type": "execute_result"
    }
   ],
   "source": [
    "a//b"
   ]
  },
  {
   "cell_type": "code",
   "execution_count": 8,
   "id": "c36d3173",
   "metadata": {},
   "outputs": [],
   "source": [
    "c=a+b"
   ]
  },
  {
   "cell_type": "code",
   "execution_count": 9,
   "id": "9495a6bd",
   "metadata": {},
   "outputs": [
    {
     "data": {
      "text/plain": [
       "15"
      ]
     },
     "execution_count": 9,
     "metadata": {},
     "output_type": "execute_result"
    }
   ],
   "source": [
    "c"
   ]
  },
  {
   "cell_type": "code",
   "execution_count": 10,
   "id": "83e8a02b",
   "metadata": {},
   "outputs": [],
   "source": [
    "d=a-b"
   ]
  },
  {
   "cell_type": "code",
   "execution_count": 11,
   "id": "e60b99fb",
   "metadata": {},
   "outputs": [
    {
     "data": {
      "text/plain": [
       "5"
      ]
     },
     "execution_count": 11,
     "metadata": {},
     "output_type": "execute_result"
    }
   ],
   "source": [
    "d"
   ]
  },
  {
   "cell_type": "code",
   "execution_count": 12,
   "id": "aeb2576f",
   "metadata": {},
   "outputs": [
    {
     "data": {
      "text/plain": [
       "20"
      ]
     },
     "execution_count": 12,
     "metadata": {},
     "output_type": "execute_result"
    }
   ],
   "source": [
    "c+d"
   ]
  },
  {
   "cell_type": "code",
   "execution_count": 13,
   "id": "a24b1bee",
   "metadata": {},
   "outputs": [
    {
     "name": "stdout",
     "output_type": "stream",
     "text": [
      "15\n"
     ]
    }
   ],
   "source": [
    "print(c)"
   ]
  },
  {
   "cell_type": "code",
   "execution_count": 14,
   "id": "cc956c74",
   "metadata": {},
   "outputs": [
    {
     "name": "stdout",
     "output_type": "stream",
     "text": [
      "The Value of C =  15\n"
     ]
    }
   ],
   "source": [
    "print(\"The Value of C = \",c)"
   ]
  },
  {
   "cell_type": "code",
   "execution_count": 15,
   "id": "3f2cf0aa",
   "metadata": {},
   "outputs": [
    {
     "name": "stdout",
     "output_type": "stream",
     "text": [
      "The value of B = 5\n"
     ]
    }
   ],
   "source": [
    "print(\"The value of B =\", b)"
   ]
  },
  {
   "cell_type": "code",
   "execution_count": 16,
   "id": "b1078078",
   "metadata": {},
   "outputs": [
    {
     "ename": "NameError",
     "evalue": "name 'e' is not defined",
     "output_type": "error",
     "traceback": [
      "\u001b[0;31m---------------------------------------------------------------------------\u001b[0m",
      "\u001b[0;31mNameError\u001b[0m                                 Traceback (most recent call last)",
      "\u001b[0;32m/var/folders/g0/17yj2y_x01q94g8ss74j8gcw0000gn/T/ipykernel_32616/2740565805.py\u001b[0m in \u001b[0;36m<module>\u001b[0;34m\u001b[0m\n\u001b[0;32m----> 1\u001b[0;31m \u001b[0me\u001b[0m\u001b[0;34m\u001b[0m\u001b[0;34m\u001b[0m\u001b[0m\n\u001b[0m",
      "\u001b[0;31mNameError\u001b[0m: name 'e' is not defined"
     ]
    }
   ],
   "source": [
    "e"
   ]
  },
  {
   "cell_type": "code",
   "execution_count": 17,
   "id": "8e2336b0",
   "metadata": {},
   "outputs": [],
   "source": [
    "e=c-a"
   ]
  },
  {
   "cell_type": "code",
   "execution_count": 18,
   "id": "b73dca46",
   "metadata": {},
   "outputs": [
    {
     "data": {
      "text/plain": [
       "5"
      ]
     },
     "execution_count": 18,
     "metadata": {},
     "output_type": "execute_result"
    }
   ],
   "source": [
    "e"
   ]
  },
  {
   "cell_type": "code",
   "execution_count": 19,
   "id": "6df09339",
   "metadata": {},
   "outputs": [],
   "source": [
    "f=e/b"
   ]
  },
  {
   "cell_type": "code",
   "execution_count": 20,
   "id": "288719b9",
   "metadata": {},
   "outputs": [
    {
     "data": {
      "text/plain": [
       "1.0"
      ]
     },
     "execution_count": 20,
     "metadata": {},
     "output_type": "execute_result"
    }
   ],
   "source": [
    "f"
   ]
  },
  {
   "cell_type": "code",
   "execution_count": 21,
   "id": "fcfde422",
   "metadata": {},
   "outputs": [
    {
     "data": {
      "text/plain": [
       "5"
      ]
     },
     "execution_count": 21,
     "metadata": {},
     "output_type": "execute_result"
    }
   ],
   "source": [
    "len(\"Bihar\")"
   ]
  },
  {
   "cell_type": "code",
   "execution_count": 22,
   "id": "63aacea2",
   "metadata": {},
   "outputs": [
    {
     "data": {
      "text/plain": [
       "37"
      ]
     },
     "execution_count": 22,
     "metadata": {},
     "output_type": "execute_result"
    }
   ],
   "source": [
    "len(\"The quick fox jumps over the lazy dog\")"
   ]
  },
  {
   "cell_type": "code",
   "execution_count": 23,
   "id": "511bbbb9",
   "metadata": {},
   "outputs": [],
   "source": [
    "city=\"london\""
   ]
  },
  {
   "cell_type": "code",
   "execution_count": 24,
   "id": "54c92ab1",
   "metadata": {},
   "outputs": [
    {
     "data": {
      "text/plain": [
       "'london'"
      ]
     },
     "execution_count": 24,
     "metadata": {},
     "output_type": "execute_result"
    }
   ],
   "source": [
    "city"
   ]
  },
  {
   "cell_type": "code",
   "execution_count": 25,
   "id": "bdf82428",
   "metadata": {},
   "outputs": [
    {
     "data": {
      "text/plain": [
       "4"
      ]
     },
     "execution_count": 25,
     "metadata": {},
     "output_type": "execute_result"
    }
   ],
   "source": [
    "len(\"city\")"
   ]
  },
  {
   "cell_type": "code",
   "execution_count": 26,
   "id": "a8a43a98",
   "metadata": {},
   "outputs": [
    {
     "data": {
      "text/plain": [
       "6"
      ]
     },
     "execution_count": 26,
     "metadata": {},
     "output_type": "execute_result"
    }
   ],
   "source": [
    "len(city)"
   ]
  },
  {
   "cell_type": "code",
   "execution_count": 27,
   "id": "e471d710",
   "metadata": {},
   "outputs": [
    {
     "data": {
      "text/plain": [
       "'55'"
      ]
     },
     "execution_count": 27,
     "metadata": {},
     "output_type": "execute_result"
    }
   ],
   "source": [
    "'5'+'5'"
   ]
  },
  {
   "cell_type": "code",
   "execution_count": 28,
   "id": "f879d99c",
   "metadata": {},
   "outputs": [],
   "source": [
    "name='john'"
   ]
  },
  {
   "cell_type": "code",
   "execution_count": 29,
   "id": "d3ccc2a7",
   "metadata": {},
   "outputs": [
    {
     "data": {
      "text/plain": [
       "'john'"
      ]
     },
     "execution_count": 29,
     "metadata": {},
     "output_type": "execute_result"
    }
   ],
   "source": [
    "name"
   ]
  },
  {
   "cell_type": "code",
   "execution_count": 30,
   "id": "275c8d62",
   "metadata": {},
   "outputs": [
    {
     "data": {
      "text/plain": [
       "str"
      ]
     },
     "execution_count": 30,
     "metadata": {},
     "output_type": "execute_result"
    }
   ],
   "source": [
    "type(name)"
   ]
  },
  {
   "cell_type": "code",
   "execution_count": 31,
   "id": "562daa9a",
   "metadata": {},
   "outputs": [],
   "source": [
    "fee=344.565"
   ]
  },
  {
   "cell_type": "code",
   "execution_count": 32,
   "id": "ff6d12a6",
   "metadata": {},
   "outputs": [
    {
     "data": {
      "text/plain": [
       "344.565"
      ]
     },
     "execution_count": 32,
     "metadata": {},
     "output_type": "execute_result"
    }
   ],
   "source": [
    "fee"
   ]
  },
  {
   "cell_type": "code",
   "execution_count": 33,
   "id": "35a7c6d7",
   "metadata": {},
   "outputs": [
    {
     "data": {
      "text/plain": [
       "float"
      ]
     },
     "execution_count": 33,
     "metadata": {},
     "output_type": "execute_result"
    }
   ],
   "source": [
    "type(fee)"
   ]
  },
  {
   "cell_type": "markdown",
   "id": "ddd369fb",
   "metadata": {},
   "source": [
    "# TYPE CASTING"
   ]
  },
  {
   "cell_type": "markdown",
   "id": "1e34f62a",
   "metadata": {},
   "source": [
    "converting one datatype to another datatype is called TYPECASTING"
   ]
  },
  {
   "cell_type": "code",
   "execution_count": 34,
   "id": "d2a7b6f2",
   "metadata": {},
   "outputs": [],
   "source": [
    "age=5"
   ]
  },
  {
   "cell_type": "code",
   "execution_count": 35,
   "id": "b01da34a",
   "metadata": {},
   "outputs": [
    {
     "data": {
      "text/plain": [
       "5"
      ]
     },
     "execution_count": 35,
     "metadata": {},
     "output_type": "execute_result"
    }
   ],
   "source": [
    "age"
   ]
  },
  {
   "cell_type": "code",
   "execution_count": 36,
   "id": "7be04778",
   "metadata": {},
   "outputs": [
    {
     "data": {
      "text/plain": [
       "int"
      ]
     },
     "execution_count": 36,
     "metadata": {},
     "output_type": "execute_result"
    }
   ],
   "source": [
    "type(age)"
   ]
  },
  {
   "cell_type": "code",
   "execution_count": 38,
   "id": "753e1157",
   "metadata": {},
   "outputs": [],
   "source": [
    "m=float(age)"
   ]
  },
  {
   "cell_type": "code",
   "execution_count": 39,
   "id": "85030059",
   "metadata": {},
   "outputs": [
    {
     "data": {
      "text/plain": [
       "float"
      ]
     },
     "execution_count": 39,
     "metadata": {},
     "output_type": "execute_result"
    }
   ],
   "source": [
    "type(m)"
   ]
  },
  {
   "cell_type": "markdown",
   "id": "0a8ac367",
   "metadata": {},
   "source": [
    "USER INPUT"
   ]
  },
  {
   "cell_type": "code",
   "execution_count": 40,
   "id": "3a977540",
   "metadata": {},
   "outputs": [
    {
     "name": "stdout",
     "output_type": "stream",
     "text": [
      "Enter the value 34\n"
     ]
    }
   ],
   "source": [
    "a=input(\"Enter the value \")"
   ]
  },
  {
   "cell_type": "code",
   "execution_count": 41,
   "id": "b8fe5a55",
   "metadata": {},
   "outputs": [
    {
     "data": {
      "text/plain": [
       "str"
      ]
     },
     "execution_count": 41,
     "metadata": {},
     "output_type": "execute_result"
    }
   ],
   "source": [
    "type(a)"
   ]
  },
  {
   "cell_type": "code",
   "execution_count": 42,
   "id": "c932fc30",
   "metadata": {},
   "outputs": [
    {
     "data": {
      "text/plain": [
       "'34'"
      ]
     },
     "execution_count": 42,
     "metadata": {},
     "output_type": "execute_result"
    }
   ],
   "source": [
    "a"
   ]
  },
  {
   "cell_type": "markdown",
   "id": "a378cdb0",
   "metadata": {},
   "source": [
    "TYPE CASTING IN USER INPUT"
   ]
  },
  {
   "cell_type": "code",
   "execution_count": 43,
   "id": "eabd8425",
   "metadata": {},
   "outputs": [
    {
     "name": "stdout",
     "output_type": "stream",
     "text": [
      "Enter the Value of 1st Number =89\n"
     ]
    }
   ],
   "source": [
    "x=int(input(\"Enter the Value of 1st Number =\"))"
   ]
  },
  {
   "cell_type": "code",
   "execution_count": 44,
   "id": "7ab49d1d",
   "metadata": {},
   "outputs": [
    {
     "name": "stdout",
     "output_type": "stream",
     "text": [
      "89\n"
     ]
    }
   ],
   "source": [
    "print(x)"
   ]
  },
  {
   "cell_type": "code",
   "execution_count": 45,
   "id": "cbc3004d",
   "metadata": {},
   "outputs": [
    {
     "data": {
      "text/plain": [
       "int"
      ]
     },
     "execution_count": 45,
     "metadata": {},
     "output_type": "execute_result"
    }
   ],
   "source": [
    "type(x)"
   ]
  },
  {
   "cell_type": "code",
   "execution_count": 46,
   "id": "1643bef6",
   "metadata": {},
   "outputs": [
    {
     "name": "stdout",
     "output_type": "stream",
     "text": [
      "Enter the value of 2nd Number =343\n"
     ]
    }
   ],
   "source": [
    "y=int(input(\"Enter the value of 2nd Number =\"))"
   ]
  },
  {
   "cell_type": "code",
   "execution_count": 50,
   "id": "fb2f8a98",
   "metadata": {},
   "outputs": [
    {
     "name": "stdout",
     "output_type": "stream",
     "text": [
      "343\n"
     ]
    }
   ],
   "source": [
    "print(y)"
   ]
  },
  {
   "cell_type": "code",
   "execution_count": 51,
   "id": "02e2f6f3",
   "metadata": {},
   "outputs": [],
   "source": [
    "z=x*y"
   ]
  },
  {
   "cell_type": "code",
   "execution_count": 52,
   "id": "95ad6ae6",
   "metadata": {},
   "outputs": [
    {
     "data": {
      "text/plain": [
       "30527"
      ]
     },
     "execution_count": 52,
     "metadata": {},
     "output_type": "execute_result"
    }
   ],
   "source": [
    "z"
   ]
  },
  {
   "cell_type": "code",
   "execution_count": 48,
   "id": "35e6867e",
   "metadata": {},
   "outputs": [
    {
     "name": "stdout",
     "output_type": "stream",
     "text": [
      "The Value of Z = 30527\n"
     ]
    }
   ],
   "source": [
    "print(\"The Value of Z =\",x*y)"
   ]
  },
  {
   "cell_type": "code",
   "execution_count": 53,
   "id": "c8cc9b5e",
   "metadata": {},
   "outputs": [
    {
     "name": "stdout",
     "output_type": "stream",
     "text": [
      "30527\n"
     ]
    }
   ],
   "source": [
    "print(z)"
   ]
  },
  {
   "cell_type": "raw",
   "id": "29a0e3b7",
   "metadata": {},
   "source": [
    "AREA OF RECTANGLE and CIRCLE"
   ]
  },
  {
   "cell_type": "code",
   "execution_count": 62,
   "id": "b8bb224a",
   "metadata": {},
   "outputs": [
    {
     "name": "stdout",
     "output_type": "stream",
     "text": [
      "Enter the value of length =9\n",
      "Enter the value of 2nd breadth =8\n",
      "72\n",
      "The value of rectangle = 72\n",
      "The area value of rectange with length 9 and breadth 8 = 72\n"
     ]
    }
   ],
   "source": [
    "length=int(input(\"Enter the value of length =\"))\n",
    "breadth=int(input(\"Enter the value of 2nd breadth =\"))\n",
    "area=length*breadth\n",
    "print(area)\n",
    "print(\"The value of rectangle =\", area)\n",
    "print(\"The area value of rectange with length\",length, 'and breadth',breadth, '=',area)"
   ]
  },
  {
   "cell_type": "code",
   "execution_count": 77,
   "id": "cc75014c",
   "metadata": {},
   "outputs": [
    {
     "name": "stdout",
     "output_type": "stream",
     "text": [
      "Enter the Value of radius = 4\n",
      "50.24\n",
      "25.12\n",
      "The Area of CIRCLE is = 50.24\n",
      "The Circumference of CIRCLE is = 25.12\n",
      "The Area of CIRCLE with radius = 4 is 50.24\n",
      "The cicumference of CIRCLE with radius = 4 is 25.12\n"
     ]
    }
   ],
   "source": [
    "radius=int(input(\"Enter the Value of radius = \"))\n",
    "area=3.14*(radius**2)\n",
    "circumference=2*3.14*radius\n",
    "print(area)\n",
    "print(circumference)\n",
    "print(\"The Area of CIRCLE is =\", area)\n",
    "print(\"The Circumference of CIRCLE is =\", circumference)\n",
    "print(\"The Area of CIRCLE with radius =\",radius,\"is\",area)\n",
    "print(\"The cicumference of CIRCLE with radius =\",radius,\"is\",circumference)"
   ]
  },
  {
   "cell_type": "markdown",
   "id": "51526200",
   "metadata": {},
   "source": [
    "# DATA STRUCTURE - KNOW AS COLLECTION OF ITEMS"
   ]
  },
  {
   "cell_type": "markdown",
   "id": "bdc4426d",
   "metadata": {},
   "source": [
    "LIST, TUPLES, DICTIONARY, SETS"
   ]
  },
  {
   "cell_type": "markdown",
   "id": "566efbae",
   "metadata": {},
   "source": [
    "1.LIST (if same datatypes are present in list it is known as HOMOGENEOUS LIST and if there is different datatypes in list like LIST5 then it is known as HETEROGENEOUS LIST\n",
    "\n",
    "list are ordered,indexed and also allow duplicate value and list are mutable (WE CAN CHANGE THE DATA INDEX) too."
   ]
  },
  {
   "cell_type": "code",
   "execution_count": 78,
   "id": "0212e085",
   "metadata": {},
   "outputs": [],
   "source": [
    "list1=[1,2,3,4]"
   ]
  },
  {
   "cell_type": "code",
   "execution_count": 80,
   "id": "4e992384",
   "metadata": {},
   "outputs": [
    {
     "data": {
      "text/plain": [
       "[1, 2, 3, 4]"
      ]
     },
     "execution_count": 80,
     "metadata": {},
     "output_type": "execute_result"
    }
   ],
   "source": [
    "list1"
   ]
  },
  {
   "cell_type": "code",
   "execution_count": 81,
   "id": "aa43ec78",
   "metadata": {},
   "outputs": [],
   "source": [
    "list2=[10,20,30,40]"
   ]
  },
  {
   "cell_type": "code",
   "execution_count": 82,
   "id": "8dc02e3f",
   "metadata": {},
   "outputs": [
    {
     "data": {
      "text/plain": [
       "[10, 20, 30, 40]"
      ]
     },
     "execution_count": 82,
     "metadata": {},
     "output_type": "execute_result"
    }
   ],
   "source": [
    "list2"
   ]
  },
  {
   "cell_type": "code",
   "execution_count": 83,
   "id": "f6d7123f",
   "metadata": {},
   "outputs": [],
   "source": [
    "list3=[23.43,23.65,43.56,235.67]"
   ]
  },
  {
   "cell_type": "code",
   "execution_count": 84,
   "id": "14409122",
   "metadata": {},
   "outputs": [
    {
     "data": {
      "text/plain": [
       "[23.43, 23.65, 43.56, 235.67]"
      ]
     },
     "execution_count": 84,
     "metadata": {},
     "output_type": "execute_result"
    }
   ],
   "source": [
    "list3"
   ]
  },
  {
   "cell_type": "code",
   "execution_count": 85,
   "id": "acb2e5a4",
   "metadata": {},
   "outputs": [],
   "source": [
    "list4=['a','b','c','d']"
   ]
  },
  {
   "cell_type": "code",
   "execution_count": 86,
   "id": "f4c4f285",
   "metadata": {},
   "outputs": [
    {
     "data": {
      "text/plain": [
       "['a', 'b', 'c', 'd']"
      ]
     },
     "execution_count": 86,
     "metadata": {},
     "output_type": "execute_result"
    }
   ],
   "source": [
    "list4"
   ]
  },
  {
   "cell_type": "code",
   "execution_count": 89,
   "id": "da3368a4",
   "metadata": {},
   "outputs": [],
   "source": [
    "list5=[1,2,54.4,'hello',3,342.5,'badshah']"
   ]
  },
  {
   "cell_type": "code",
   "execution_count": 90,
   "id": "79cfe86a",
   "metadata": {},
   "outputs": [
    {
     "data": {
      "text/plain": [
       "[1, 2, 54.4, 'hello', 3, 342.5, 'badshah']"
      ]
     },
     "execution_count": 90,
     "metadata": {},
     "output_type": "execute_result"
    }
   ],
   "source": [
    "list5"
   ]
  },
  {
   "cell_type": "code",
   "execution_count": 93,
   "id": "96fae2b8",
   "metadata": {},
   "outputs": [
    {
     "data": {
      "text/plain": [
       "'hello'"
      ]
     },
     "execution_count": 93,
     "metadata": {},
     "output_type": "execute_result"
    }
   ],
   "source": [
    "list5[3]"
   ]
  },
  {
   "cell_type": "code",
   "execution_count": 94,
   "id": "3660a790",
   "metadata": {},
   "outputs": [
    {
     "data": {
      "text/plain": [
       "str"
      ]
     },
     "execution_count": 94,
     "metadata": {},
     "output_type": "execute_result"
    }
   ],
   "source": [
    "type(list5[3])"
   ]
  },
  {
   "cell_type": "markdown",
   "id": "e3c2683f",
   "metadata": {},
   "source": [
    "NEGATIVE INDEXING"
   ]
  },
  {
   "cell_type": "code",
   "execution_count": 95,
   "id": "8289075c",
   "metadata": {},
   "outputs": [
    {
     "data": {
      "text/plain": [
       "'hello'"
      ]
     },
     "execution_count": 95,
     "metadata": {},
     "output_type": "execute_result"
    }
   ],
   "source": [
    "list5[-4]"
   ]
  },
  {
   "cell_type": "code",
   "execution_count": 96,
   "id": "040b5c95",
   "metadata": {},
   "outputs": [
    {
     "data": {
      "text/plain": [
       "43.56"
      ]
     },
     "execution_count": 96,
     "metadata": {},
     "output_type": "execute_result"
    }
   ],
   "source": [
    "list3[-2]"
   ]
  },
  {
   "cell_type": "code",
   "execution_count": 97,
   "id": "d8a982ae",
   "metadata": {},
   "outputs": [
    {
     "data": {
      "text/plain": [
       "[23.43, 23.65, 43.56, 235.67]"
      ]
     },
     "execution_count": 97,
     "metadata": {},
     "output_type": "execute_result"
    }
   ],
   "source": [
    "list3"
   ]
  },
  {
   "cell_type": "markdown",
   "id": "8d035133",
   "metadata": {},
   "source": [
    "SLICING"
   ]
  },
  {
   "cell_type": "code",
   "execution_count": 99,
   "id": "a202bce3",
   "metadata": {},
   "outputs": [
    {
     "data": {
      "text/plain": [
       "[23.65, 43.56]"
      ]
     },
     "execution_count": 99,
     "metadata": {},
     "output_type": "execute_result"
    }
   ],
   "source": [
    "list3[1:3]"
   ]
  },
  {
   "cell_type": "code",
   "execution_count": 101,
   "id": "7f86dc91",
   "metadata": {},
   "outputs": [
    {
     "data": {
      "text/plain": [
       "[23.43, 23.65]"
      ]
     },
     "execution_count": 101,
     "metadata": {},
     "output_type": "execute_result"
    }
   ],
   "source": [
    "list3[0:2]"
   ]
  },
  {
   "cell_type": "code",
   "execution_count": 102,
   "id": "717f155c",
   "metadata": {},
   "outputs": [
    {
     "data": {
      "text/plain": [
       "['c', 'd']"
      ]
     },
     "execution_count": 102,
     "metadata": {},
     "output_type": "execute_result"
    }
   ],
   "source": [
    "list4[2:4]"
   ]
  },
  {
   "cell_type": "code",
   "execution_count": 103,
   "id": "d9ddedeb",
   "metadata": {},
   "outputs": [
    {
     "data": {
      "text/plain": [
       "['a', 'b', 'c', 'd']"
      ]
     },
     "execution_count": 103,
     "metadata": {},
     "output_type": "execute_result"
    }
   ],
   "source": [
    "list4"
   ]
  },
  {
   "cell_type": "markdown",
   "id": "b0d9ea20",
   "metadata": {},
   "source": [
    "METHODS/FUNCTION OF LIST CAN BE PERFORMED SUCH AS APPEND,INSERT THE ITEM AT PARTICULAR INDEX AND SORT SUCH AS ASCENDING OR DESCENDING ORDER AND ALSO WE CAN REVERSE THE LIST ITEM USING THESE BUILTIN FUNCION\n",
    "APPEND(),INSERT(),SORT(),REVERSE(),INDEX(ITEM), POP().\n",
    "\n",
    "POP() IS USED TO REMOVE ANY LAST DATA IN THE LIST AND IT CAN REMOVE ITEM AT PARTICULAR INDEX IF INDEX VALUE IS GIVEN. EXAMPLE POP(3) AND REMOVE(23.63)\n",
    "\n",
    "APPEND() IS USED TO ADD DATA IN THE LIST AND IT WILL BE ADDED IN THE LAST.\n",
    "\n",
    "EXTEND() SHOULD BE USED IF WE NEED TO ADD MORE THAN 1 VALUE.\n",
    "\n",
    "INSERT() IS USED TO ADD DATA AT PARTICULAR INDEX.\n",
    "\n",
    "SORT() WILL DO SORTING IN ASCENDING ORDER A-Z\n",
    "\n",
    "REVERSE() WILL DO SORTING IN DESCENDING ORDER Z-A\n",
    "\n",
    "INDEX() WILL ALLOCATE ITEM IN LIST"
   ]
  },
  {
   "cell_type": "code",
   "execution_count": 107,
   "id": "fa7ad585",
   "metadata": {},
   "outputs": [],
   "source": [
    "planetlist=[\"jupiter\",'mars','earth','pluto']"
   ]
  },
  {
   "cell_type": "code",
   "execution_count": 108,
   "id": "b1ce6c60",
   "metadata": {},
   "outputs": [
    {
     "data": {
      "text/plain": [
       "['jupiter', 'mars', 'earth', 'pluto']"
      ]
     },
     "execution_count": 108,
     "metadata": {},
     "output_type": "execute_result"
    }
   ],
   "source": [
    "planetlist"
   ]
  },
  {
   "cell_type": "code",
   "execution_count": 109,
   "id": "58d6a4c8",
   "metadata": {},
   "outputs": [],
   "source": [
    "planetlist.append(\"saturn\")"
   ]
  },
  {
   "cell_type": "code",
   "execution_count": 110,
   "id": "cb6e931f",
   "metadata": {},
   "outputs": [
    {
     "data": {
      "text/plain": [
       "['jupiter', 'mars', 'earth', 'pluto', 'saturn']"
      ]
     },
     "execution_count": 110,
     "metadata": {},
     "output_type": "execute_result"
    }
   ],
   "source": [
    "planetlist"
   ]
  },
  {
   "cell_type": "code",
   "execution_count": 126,
   "id": "7d247eee",
   "metadata": {},
   "outputs": [],
   "source": [
    "planetlist.extend([\"moon\",\"mercury\"])"
   ]
  },
  {
   "cell_type": "code",
   "execution_count": 127,
   "id": "0549d130",
   "metadata": {},
   "outputs": [
    {
     "data": {
      "text/plain": [
       "['jupiter',\n",
       " 'mars',\n",
       " 'earth',\n",
       " 'pluto',\n",
       " 'saturn',\n",
       " 'm',\n",
       " 'o',\n",
       " 'o',\n",
       " 'n',\n",
       " 'N',\n",
       " 'e',\n",
       " 'p',\n",
       " 't',\n",
       " 'u',\n",
       " 'n',\n",
       " 'e',\n",
       " 'moon',\n",
       " 'Neptune',\n",
       " 'moon,earth',\n",
       " 'moon',\n",
       " 'earth',\n",
       " 'moon',\n",
       " 'earth',\n",
       " 'moon',\n",
       " 'earth',\n",
       " 'moon',\n",
       " 'mercury']"
      ]
     },
     "execution_count": 127,
     "metadata": {},
     "output_type": "execute_result"
    }
   ],
   "source": [
    "planetlist"
   ]
  },
  {
   "cell_type": "code",
   "execution_count": 128,
   "id": "49c4e2cf",
   "metadata": {},
   "outputs": [],
   "source": [
    "del planetlist"
   ]
  },
  {
   "cell_type": "code",
   "execution_count": 129,
   "id": "72ad8645",
   "metadata": {},
   "outputs": [
    {
     "ename": "NameError",
     "evalue": "name 'planetlist' is not defined",
     "output_type": "error",
     "traceback": [
      "\u001b[0;31m---------------------------------------------------------------------------\u001b[0m",
      "\u001b[0;31mNameError\u001b[0m                                 Traceback (most recent call last)",
      "\u001b[0;32m/var/folders/g0/17yj2y_x01q94g8ss74j8gcw0000gn/T/ipykernel_32616/3676854626.py\u001b[0m in \u001b[0;36m<module>\u001b[0;34m\u001b[0m\n\u001b[0;32m----> 1\u001b[0;31m \u001b[0mplanetlist\u001b[0m\u001b[0;34m\u001b[0m\u001b[0;34m\u001b[0m\u001b[0m\n\u001b[0m",
      "\u001b[0;31mNameError\u001b[0m: name 'planetlist' is not defined"
     ]
    }
   ],
   "source": [
    "planetlist"
   ]
  },
  {
   "cell_type": "code",
   "execution_count": 130,
   "id": "76a63253",
   "metadata": {},
   "outputs": [],
   "source": [
    "planetlist=[\"jupiter\",'mars','earth','pluto']"
   ]
  },
  {
   "cell_type": "code",
   "execution_count": 131,
   "id": "1c4cd6f5",
   "metadata": {},
   "outputs": [
    {
     "data": {
      "text/plain": [
       "['jupiter', 'mars', 'earth', 'pluto']"
      ]
     },
     "execution_count": 131,
     "metadata": {},
     "output_type": "execute_result"
    }
   ],
   "source": [
    "planetlist"
   ]
  },
  {
   "cell_type": "code",
   "execution_count": 132,
   "id": "29d04c03",
   "metadata": {},
   "outputs": [],
   "source": [
    "planetlist.append(\"moon\")"
   ]
  },
  {
   "cell_type": "code",
   "execution_count": 133,
   "id": "a3bc2c3f",
   "metadata": {},
   "outputs": [
    {
     "data": {
      "text/plain": [
       "['jupiter', 'mars', 'earth', 'pluto', 'moon']"
      ]
     },
     "execution_count": 133,
     "metadata": {},
     "output_type": "execute_result"
    }
   ],
   "source": [
    "planetlist"
   ]
  },
  {
   "cell_type": "code",
   "execution_count": 134,
   "id": "28ba64e6",
   "metadata": {},
   "outputs": [],
   "source": [
    "planetlist.extend([\"rose\",\"lilly\"])"
   ]
  },
  {
   "cell_type": "code",
   "execution_count": 135,
   "id": "e4b4a0c2",
   "metadata": {},
   "outputs": [
    {
     "data": {
      "text/plain": [
       "['jupiter', 'mars', 'earth', 'pluto', 'moon', 'rose', 'lilly']"
      ]
     },
     "execution_count": 135,
     "metadata": {},
     "output_type": "execute_result"
    }
   ],
   "source": [
    "planetlist"
   ]
  },
  {
   "cell_type": "code",
   "execution_count": 137,
   "id": "ac0c806c",
   "metadata": {},
   "outputs": [
    {
     "data": {
      "text/plain": [
       "'pluto'"
      ]
     },
     "execution_count": 137,
     "metadata": {},
     "output_type": "execute_result"
    }
   ],
   "source": [
    "planetlist.pop(3)"
   ]
  },
  {
   "cell_type": "code",
   "execution_count": 138,
   "id": "cf709800",
   "metadata": {},
   "outputs": [
    {
     "data": {
      "text/plain": [
       "['jupiter', 'mars', 'earth', 'moon', 'rose', 'lilly']"
      ]
     },
     "execution_count": 138,
     "metadata": {},
     "output_type": "execute_result"
    }
   ],
   "source": [
    "planetlist"
   ]
  },
  {
   "cell_type": "code",
   "execution_count": 139,
   "id": "e457b009",
   "metadata": {},
   "outputs": [],
   "source": [
    "planetlist[3]=\"sun\""
   ]
  },
  {
   "cell_type": "code",
   "execution_count": 140,
   "id": "5662c11c",
   "metadata": {},
   "outputs": [
    {
     "data": {
      "text/plain": [
       "['jupiter', 'mars', 'earth', 'sun', 'rose', 'lilly']"
      ]
     },
     "execution_count": 140,
     "metadata": {},
     "output_type": "execute_result"
    }
   ],
   "source": [
    "planetlist"
   ]
  },
  {
   "cell_type": "code",
   "execution_count": 141,
   "id": "7c4c6a68",
   "metadata": {},
   "outputs": [],
   "source": [
    "planetlist.insert(3,\"moon\")"
   ]
  },
  {
   "cell_type": "code",
   "execution_count": 142,
   "id": "d6189eed",
   "metadata": {},
   "outputs": [
    {
     "data": {
      "text/plain": [
       "['jupiter', 'mars', 'earth', 'moon', 'sun', 'rose', 'lilly']"
      ]
     },
     "execution_count": 142,
     "metadata": {},
     "output_type": "execute_result"
    }
   ],
   "source": [
    "planetlist"
   ]
  },
  {
   "cell_type": "code",
   "execution_count": 143,
   "id": "fe2ad27b",
   "metadata": {},
   "outputs": [],
   "source": [
    "planetlist.sort()"
   ]
  },
  {
   "cell_type": "code",
   "execution_count": 144,
   "id": "6c49c1f0",
   "metadata": {},
   "outputs": [
    {
     "data": {
      "text/plain": [
       "['earth', 'jupiter', 'lilly', 'mars', 'moon', 'rose', 'sun']"
      ]
     },
     "execution_count": 144,
     "metadata": {},
     "output_type": "execute_result"
    }
   ],
   "source": [
    "planetlist"
   ]
  },
  {
   "cell_type": "code",
   "execution_count": 145,
   "id": "e9589735",
   "metadata": {},
   "outputs": [],
   "source": [
    "planetlist.reverse()"
   ]
  },
  {
   "cell_type": "code",
   "execution_count": 146,
   "id": "ae553c0e",
   "metadata": {},
   "outputs": [
    {
     "data": {
      "text/plain": [
       "['sun', 'rose', 'moon', 'mars', 'lilly', 'jupiter', 'earth']"
      ]
     },
     "execution_count": 146,
     "metadata": {},
     "output_type": "execute_result"
    }
   ],
   "source": [
    "planetlist"
   ]
  },
  {
   "cell_type": "markdown",
   "id": "09fd7255",
   "metadata": {},
   "source": [
    "# TUPLE"
   ]
  },
  {
   "cell_type": "markdown",
   "id": "e1968bd5",
   "metadata": {},
   "source": [
    "It should be used with () and it is immutable which means it doesnt allow to change the value of items"
   ]
  },
  {
   "cell_type": "code",
   "execution_count": null,
   "id": "07abe9fe",
   "metadata": {},
   "outputs": [],
   "source": []
  },
  {
   "cell_type": "code",
   "execution_count": null,
   "id": "e72558e6",
   "metadata": {},
   "outputs": [],
   "source": []
  },
  {
   "cell_type": "code",
   "execution_count": null,
   "id": "53dd0d7f",
   "metadata": {},
   "outputs": [],
   "source": []
  },
  {
   "cell_type": "code",
   "execution_count": null,
   "id": "c07249b8",
   "metadata": {},
   "outputs": [],
   "source": []
  },
  {
   "cell_type": "code",
   "execution_count": null,
   "id": "1011af58",
   "metadata": {},
   "outputs": [],
   "source": []
  },
  {
   "cell_type": "code",
   "execution_count": null,
   "id": "54fed0a3",
   "metadata": {},
   "outputs": [],
   "source": []
  },
  {
   "cell_type": "code",
   "execution_count": null,
   "id": "f83e0ded",
   "metadata": {},
   "outputs": [],
   "source": []
  },
  {
   "cell_type": "code",
   "execution_count": null,
   "id": "4cf3a9e3",
   "metadata": {},
   "outputs": [],
   "source": []
  },
  {
   "cell_type": "code",
   "execution_count": null,
   "id": "bac460c7",
   "metadata": {},
   "outputs": [],
   "source": []
  },
  {
   "cell_type": "code",
   "execution_count": null,
   "id": "753f091a",
   "metadata": {},
   "outputs": [],
   "source": []
  },
  {
   "cell_type": "code",
   "execution_count": null,
   "id": "381a7c6f",
   "metadata": {},
   "outputs": [],
   "source": []
  },
  {
   "cell_type": "code",
   "execution_count": null,
   "id": "631174e1",
   "metadata": {},
   "outputs": [],
   "source": []
  },
  {
   "cell_type": "code",
   "execution_count": null,
   "id": "587fce1e",
   "metadata": {},
   "outputs": [],
   "source": []
  },
  {
   "cell_type": "code",
   "execution_count": null,
   "id": "efe1b34a",
   "metadata": {},
   "outputs": [],
   "source": []
  },
  {
   "cell_type": "code",
   "execution_count": null,
   "id": "4d8f5a2b",
   "metadata": {},
   "outputs": [],
   "source": []
  },
  {
   "cell_type": "code",
   "execution_count": null,
   "id": "1b86e8e2",
   "metadata": {},
   "outputs": [],
   "source": []
  },
  {
   "cell_type": "code",
   "execution_count": null,
   "id": "06951f77",
   "metadata": {},
   "outputs": [],
   "source": []
  },
  {
   "cell_type": "code",
   "execution_count": null,
   "id": "d86c0662",
   "metadata": {},
   "outputs": [],
   "source": []
  },
  {
   "cell_type": "code",
   "execution_count": null,
   "id": "d02fb8a6",
   "metadata": {},
   "outputs": [],
   "source": []
  },
  {
   "cell_type": "code",
   "execution_count": null,
   "id": "fd630945",
   "metadata": {},
   "outputs": [],
   "source": []
  },
  {
   "cell_type": "code",
   "execution_count": null,
   "id": "ceb368ec",
   "metadata": {},
   "outputs": [],
   "source": []
  },
  {
   "cell_type": "code",
   "execution_count": null,
   "id": "5040c9ba",
   "metadata": {},
   "outputs": [],
   "source": []
  },
  {
   "cell_type": "code",
   "execution_count": null,
   "id": "32e8716a",
   "metadata": {},
   "outputs": [],
   "source": []
  },
  {
   "cell_type": "code",
   "execution_count": null,
   "id": "44862b08",
   "metadata": {},
   "outputs": [],
   "source": []
  },
  {
   "cell_type": "code",
   "execution_count": null,
   "id": "42962f2a",
   "metadata": {},
   "outputs": [],
   "source": []
  },
  {
   "cell_type": "code",
   "execution_count": null,
   "id": "32b28fa9",
   "metadata": {},
   "outputs": [],
   "source": []
  },
  {
   "cell_type": "code",
   "execution_count": null,
   "id": "cff0b24a",
   "metadata": {},
   "outputs": [],
   "source": []
  },
  {
   "cell_type": "code",
   "execution_count": null,
   "id": "a6e54b2c",
   "metadata": {},
   "outputs": [],
   "source": []
  },
  {
   "cell_type": "code",
   "execution_count": null,
   "id": "9edc30a7",
   "metadata": {},
   "outputs": [],
   "source": []
  },
  {
   "cell_type": "code",
   "execution_count": null,
   "id": "35697784",
   "metadata": {},
   "outputs": [],
   "source": []
  },
  {
   "cell_type": "code",
   "execution_count": null,
   "id": "eeaa4fec",
   "metadata": {},
   "outputs": [],
   "source": []
  },
  {
   "cell_type": "code",
   "execution_count": null,
   "id": "2cb6f4e3",
   "metadata": {},
   "outputs": [],
   "source": []
  },
  {
   "cell_type": "code",
   "execution_count": null,
   "id": "33041a5b",
   "metadata": {},
   "outputs": [],
   "source": []
  },
  {
   "cell_type": "code",
   "execution_count": null,
   "id": "5849cb2d",
   "metadata": {},
   "outputs": [],
   "source": []
  },
  {
   "cell_type": "code",
   "execution_count": null,
   "id": "be4d1524",
   "metadata": {},
   "outputs": [],
   "source": []
  },
  {
   "cell_type": "code",
   "execution_count": null,
   "id": "7a3966b3",
   "metadata": {},
   "outputs": [],
   "source": []
  },
  {
   "cell_type": "code",
   "execution_count": null,
   "id": "b6f38d04",
   "metadata": {},
   "outputs": [],
   "source": []
  },
  {
   "cell_type": "code",
   "execution_count": null,
   "id": "af5ee084",
   "metadata": {},
   "outputs": [],
   "source": []
  },
  {
   "cell_type": "code",
   "execution_count": null,
   "id": "ad464906",
   "metadata": {},
   "outputs": [],
   "source": []
  },
  {
   "cell_type": "code",
   "execution_count": null,
   "id": "847cae1d",
   "metadata": {},
   "outputs": [],
   "source": []
  },
  {
   "cell_type": "code",
   "execution_count": null,
   "id": "60cd133a",
   "metadata": {},
   "outputs": [],
   "source": []
  },
  {
   "cell_type": "code",
   "execution_count": null,
   "id": "5e920b9b",
   "metadata": {},
   "outputs": [],
   "source": []
  },
  {
   "cell_type": "code",
   "execution_count": null,
   "id": "e2e9be8b",
   "metadata": {},
   "outputs": [],
   "source": []
  },
  {
   "cell_type": "code",
   "execution_count": null,
   "id": "9559989d",
   "metadata": {},
   "outputs": [],
   "source": []
  },
  {
   "cell_type": "code",
   "execution_count": null,
   "id": "d886f2db",
   "metadata": {},
   "outputs": [],
   "source": []
  },
  {
   "cell_type": "code",
   "execution_count": null,
   "id": "9d167aa0",
   "metadata": {},
   "outputs": [],
   "source": []
  },
  {
   "cell_type": "markdown",
   "id": "78911a3f",
   "metadata": {},
   "source": []
  },
  {
   "cell_type": "code",
   "execution_count": null,
   "id": "f62e0f12",
   "metadata": {},
   "outputs": [],
   "source": []
  },
  {
   "cell_type": "code",
   "execution_count": null,
   "id": "0e577681",
   "metadata": {},
   "outputs": [],
   "source": []
  }
 ],
 "metadata": {
  "kernelspec": {
   "display_name": "Python 3 (ipykernel)",
   "language": "python",
   "name": "python3"
  },
  "language_info": {
   "codemirror_mode": {
    "name": "ipython",
    "version": 3
   },
   "file_extension": ".py",
   "mimetype": "text/x-python",
   "name": "python",
   "nbconvert_exporter": "python",
   "pygments_lexer": "ipython3",
   "version": "3.9.13"
  }
 },
 "nbformat": 4,
 "nbformat_minor": 5
}
